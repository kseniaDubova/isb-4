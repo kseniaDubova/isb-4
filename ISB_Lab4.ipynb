{
  "cells": [
    {
      "cell_type": "markdown",
      "metadata": {
        "id": "HCgXgRy0naSq"
      },
      "source": [
        "#**Лабораторная работа № 4 \"Поиск колизии хеш-функции\"**\n",
        "**В рамках курса \"Основы информационной безопасности\"**  \n",
        "*Специальность \"Информационная безопасность автоматизированных систем\", 2 курс, 2 семестр*  \n",
        "\n",
        "В данной лабораторной работе вы попытаетесь восстановить номер банковской карты по ее [хешу](https://habr.com/ru/post/534596/) с использованием дополнительной информации о типе карты, типе платежной системы и ее банке-эмитенте.   \n",
        "\n",
        "Тематика лабораторной вдохновлена сообщением об [этой утечке](https://www.securitylab.ru/news/536831.php) данных пользователей банковских карт."
      ]
    },
    {
      "cell_type": "markdown",
      "metadata": {
        "id": "hN42dL5aoB9U"
      },
      "source": [
        "##Задание  \n",
        "\n",
        "1. Выяснить [БИН](https://www.banki.ru/wikibank/bankovskiy_identifikatsionnyiy_nomer/) код карты при помощи дополнительной информации о карте,\n",
        "2. Написать софт на `python`(хотя, потенциально, можно и на любом другом языке), который подобрал бы оставшиеся цифры номера карты по ее хешу, с использованием библиотеки [multiprocessing](https://docs.python.org/3/library/multiprocessing.html). \n",
        "3. Замерить время, потраченное на поиск коллизии при различном числа процессов в пуле, и визуализировать его средствами [matplotlib](https://matplotlib.org/) (или другой аналогичной библиотеки),\n",
        "4. Написать собственную реализацию [алгоритма Луна](https://unece.org/fileadmin/DAM/trans/doc/2020/sc2/ECE-TRANS-SC.2-EG_PIRRS-2020-4r.pdf) и выяснить, является ли полученный номер карты корректным."
      ]
    },
    {
      "cell_type": "markdown",
      "metadata": {
        "id": "v1qpeV--38wT"
      },
      "source": [
        "## Работа с библиотекой multiprocessing\n",
        "В данном разделе представлены примеры работы с библиотекой [multiprocessing](https://docs.python.org/3/library/multiprocessing.html), которые могут вам пригодиться при выполнении данной лабораторной работы. \n",
        "С данной библиотекой вы сталкивались во время курса \"Прикладное программирование\"."
      ]
    },
    {
      "cell_type": "code",
      "execution_count": 2,
      "metadata": {
        "colab": {
          "base_uri": "https://localhost:8080/"
        },
        "id": "MHHhGXvu4tzW",
        "outputId": "584beec4-46f6-40aa-be64-03cf1a9de7f9"
      },
      "outputs": [
        {
          "name": "stdout",
          "output_type": "stream",
          "text": [
            "8\n"
          ]
        }
      ],
      "source": [
        "import multiprocessing as mp\n",
        "# узнаем число доступных ядер\n",
        "cores = mp.cpu_count() # в коллабе их мало, так что выполнять лабораторную придется на своем железе\n",
        "print(cores)"
      ]
    },
    {
      "cell_type": "code",
      "execution_count": 3,
      "metadata": {
        "colab": {
          "base_uri": "https://localhost:8080/"
        },
        "id": "I4dORTD75OP0",
        "outputId": "296ea1bb-eb87-475d-a8c7-344cb9633086"
      },
      "outputs": [
        {
          "name": "stderr",
          "output_type": "stream",
          "text": [
            "Process SpawnPoolWorker-1:\n",
            "Traceback (most recent call last):\n",
            "  File \"/Library/Frameworks/Python.framework/Versions/3.8/lib/python3.8/multiprocessing/process.py\", line 313, in _bootstrap\n",
            "    self.run()\n",
            "  File \"/Library/Frameworks/Python.framework/Versions/3.8/lib/python3.8/multiprocessing/process.py\", line 108, in run\n",
            "    self._target(*self._args, **self._kwargs)\n",
            "  File \"/Library/Frameworks/Python.framework/Versions/3.8/lib/python3.8/multiprocessing/pool.py\", line 114, in worker\n",
            "    task = get()\n",
            "  File \"/Library/Frameworks/Python.framework/Versions/3.8/lib/python3.8/multiprocessing/queues.py\", line 358, in get\n",
            "    return _ForkingPickler.loads(res)\n",
            "AttributeError: Can't get attribute 'sample_function' on <module '__main__' (built-in)>\n",
            "Process SpawnPoolWorker-2:\n",
            "Traceback (most recent call last):\n",
            "  File \"/Library/Frameworks/Python.framework/Versions/3.8/lib/python3.8/multiprocessing/process.py\", line 313, in _bootstrap\n",
            "    self.run()\n",
            "  File \"/Library/Frameworks/Python.framework/Versions/3.8/lib/python3.8/multiprocessing/process.py\", line 108, in run\n",
            "    self._target(*self._args, **self._kwargs)\n",
            "  File \"/Library/Frameworks/Python.framework/Versions/3.8/lib/python3.8/multiprocessing/pool.py\", line 114, in worker\n",
            "    task = get()\n",
            "  File \"/Library/Frameworks/Python.framework/Versions/3.8/lib/python3.8/multiprocessing/queues.py\", line 358, in get\n",
            "    return _ForkingPickler.loads(res)\n",
            "AttributeError: Can't get attribute 'sample_function' on <module '__main__' (built-in)>\n",
            "Process SpawnPoolWorker-3:\n",
            "Traceback (most recent call last):\n",
            "  File \"/Library/Frameworks/Python.framework/Versions/3.8/lib/python3.8/multiprocessing/process.py\", line 313, in _bootstrap\n",
            "    self.run()\n",
            "  File \"/Library/Frameworks/Python.framework/Versions/3.8/lib/python3.8/multiprocessing/process.py\", line 108, in run\n",
            "    self._target(*self._args, **self._kwargs)\n",
            "  File \"/Library/Frameworks/Python.framework/Versions/3.8/lib/python3.8/multiprocessing/pool.py\", line 114, in worker\n",
            "    task = get()\n",
            "  File \"/Library/Frameworks/Python.framework/Versions/3.8/lib/python3.8/multiprocessing/queues.py\", line 358, in get\n",
            "    return _ForkingPickler.loads(res)\n",
            "AttributeError: Can't get attribute 'sample_function' on <module '__main__' (built-in)>\n",
            "Process SpawnPoolWorker-4:\n",
            "Traceback (most recent call last):\n",
            "  File \"/Library/Frameworks/Python.framework/Versions/3.8/lib/python3.8/multiprocessing/process.py\", line 313, in _bootstrap\n",
            "    self.run()\n",
            "  File \"/Library/Frameworks/Python.framework/Versions/3.8/lib/python3.8/multiprocessing/process.py\", line 108, in run\n",
            "    self._target(*self._args, **self._kwargs)\n",
            "  File \"/Library/Frameworks/Python.framework/Versions/3.8/lib/python3.8/multiprocessing/pool.py\", line 114, in worker\n",
            "    task = get()\n",
            "  File \"/Library/Frameworks/Python.framework/Versions/3.8/lib/python3.8/multiprocessing/queues.py\", line 358, in get\n",
            "    return _ForkingPickler.loads(res)\n",
            "AttributeError: Can't get attribute 'sample_function' on <module '__main__' (built-in)>\n",
            "Process SpawnPoolWorker-5:\n",
            "Traceback (most recent call last):\n",
            "  File \"/Library/Frameworks/Python.framework/Versions/3.8/lib/python3.8/multiprocessing/process.py\", line 313, in _bootstrap\n",
            "    self.run()\n",
            "  File \"/Library/Frameworks/Python.framework/Versions/3.8/lib/python3.8/multiprocessing/process.py\", line 108, in run\n",
            "    self._target(*self._args, **self._kwargs)\n",
            "  File \"/Library/Frameworks/Python.framework/Versions/3.8/lib/python3.8/multiprocessing/pool.py\", line 114, in worker\n",
            "    task = get()\n",
            "  File \"/Library/Frameworks/Python.framework/Versions/3.8/lib/python3.8/multiprocessing/queues.py\", line 358, in get\n",
            "    return _ForkingPickler.loads(res)\n",
            "AttributeError: Can't get attribute 'sample_function' on <module '__main__' (built-in)>\n",
            "Process SpawnPoolWorker-6:\n",
            "Traceback (most recent call last):\n",
            "  File \"/Library/Frameworks/Python.framework/Versions/3.8/lib/python3.8/multiprocessing/process.py\", line 313, in _bootstrap\n",
            "    self.run()\n",
            "  File \"/Library/Frameworks/Python.framework/Versions/3.8/lib/python3.8/multiprocessing/process.py\", line 108, in run\n",
            "    self._target(*self._args, **self._kwargs)\n",
            "  File \"/Library/Frameworks/Python.framework/Versions/3.8/lib/python3.8/multiprocessing/pool.py\", line 114, in worker\n",
            "    task = get()\n",
            "  File \"/Library/Frameworks/Python.framework/Versions/3.8/lib/python3.8/multiprocessing/queues.py\", line 358, in get\n",
            "    return _ForkingPickler.loads(res)\n",
            "AttributeError: Can't get attribute 'sample_function' on <module '__main__' (built-in)>\n",
            "Process SpawnPoolWorker-7:\n",
            "Traceback (most recent call last):\n",
            "  File \"/Library/Frameworks/Python.framework/Versions/3.8/lib/python3.8/multiprocessing/process.py\", line 313, in _bootstrap\n",
            "    self.run()\n",
            "  File \"/Library/Frameworks/Python.framework/Versions/3.8/lib/python3.8/multiprocessing/process.py\", line 108, in run\n",
            "    self._target(*self._args, **self._kwargs)\n",
            "  File \"/Library/Frameworks/Python.framework/Versions/3.8/lib/python3.8/multiprocessing/pool.py\", line 114, in worker\n",
            "    task = get()\n",
            "  File \"/Library/Frameworks/Python.framework/Versions/3.8/lib/python3.8/multiprocessing/queues.py\", line 358, in get\n",
            "    return _ForkingPickler.loads(res)\n",
            "AttributeError: Can't get attribute 'sample_function' on <module '__main__' (built-in)>\n",
            "Process SpawnPoolWorker-8:\n",
            "Traceback (most recent call last):\n",
            "  File \"/Library/Frameworks/Python.framework/Versions/3.8/lib/python3.8/multiprocessing/process.py\", line 313, in _bootstrap\n",
            "    self.run()\n",
            "  File \"/Library/Frameworks/Python.framework/Versions/3.8/lib/python3.8/multiprocessing/process.py\", line 108, in run\n",
            "    self._target(*self._args, **self._kwargs)\n",
            "  File \"/Library/Frameworks/Python.framework/Versions/3.8/lib/python3.8/multiprocessing/pool.py\", line 114, in worker\n",
            "    task = get()\n",
            "  File \"/Library/Frameworks/Python.framework/Versions/3.8/lib/python3.8/multiprocessing/queues.py\", line 358, in get\n",
            "    return _ForkingPickler.loads(res)\n",
            "AttributeError: Can't get attribute 'sample_function' on <module '__main__' (built-in)>\n",
            "Process SpawnPoolWorker-9:\n",
            "Traceback (most recent call last):\n",
            "  File \"/Library/Frameworks/Python.framework/Versions/3.8/lib/python3.8/multiprocessing/process.py\", line 313, in _bootstrap\n",
            "    self.run()\n",
            "  File \"/Library/Frameworks/Python.framework/Versions/3.8/lib/python3.8/multiprocessing/process.py\", line 108, in run\n",
            "    self._target(*self._args, **self._kwargs)\n",
            "  File \"/Library/Frameworks/Python.framework/Versions/3.8/lib/python3.8/multiprocessing/pool.py\", line 114, in worker\n",
            "    task = get()\n",
            "  File \"/Library/Frameworks/Python.framework/Versions/3.8/lib/python3.8/multiprocessing/queues.py\", line 358, in get\n",
            "    return _ForkingPickler.loads(res)\n",
            "AttributeError: Can't get attribute 'sample_function' on <module '__main__' (built-in)>\n",
            "Process SpawnPoolWorker-10:\n",
            "Traceback (most recent call last):\n",
            "  File \"/Library/Frameworks/Python.framework/Versions/3.8/lib/python3.8/multiprocessing/process.py\", line 313, in _bootstrap\n",
            "    self.run()\n",
            "  File \"/Library/Frameworks/Python.framework/Versions/3.8/lib/python3.8/multiprocessing/process.py\", line 108, in run\n",
            "    self._target(*self._args, **self._kwargs)\n",
            "  File \"/Library/Frameworks/Python.framework/Versions/3.8/lib/python3.8/multiprocessing/pool.py\", line 114, in worker\n",
            "    task = get()\n",
            "  File \"/Library/Frameworks/Python.framework/Versions/3.8/lib/python3.8/multiprocessing/queues.py\", line 358, in get\n",
            "    return _ForkingPickler.loads(res)\n",
            "AttributeError: Can't get attribute 'sample_function' on <module '__main__' (built-in)>\n",
            "Process SpawnPoolWorker-11:\n",
            "Traceback (most recent call last):\n",
            "  File \"/Library/Frameworks/Python.framework/Versions/3.8/lib/python3.8/multiprocessing/process.py\", line 313, in _bootstrap\n",
            "    self.run()\n",
            "  File \"/Library/Frameworks/Python.framework/Versions/3.8/lib/python3.8/multiprocessing/process.py\", line 108, in run\n",
            "    self._target(*self._args, **self._kwargs)\n",
            "  File \"/Library/Frameworks/Python.framework/Versions/3.8/lib/python3.8/multiprocessing/pool.py\", line 114, in worker\n",
            "    task = get()\n",
            "  File \"/Library/Frameworks/Python.framework/Versions/3.8/lib/python3.8/multiprocessing/queues.py\", line 358, in get\n",
            "    return _ForkingPickler.loads(res)\n",
            "AttributeError: Can't get attribute 'sample_function' on <module '__main__' (built-in)>\n",
            "Process SpawnPoolWorker-12:\n",
            "Traceback (most recent call last):\n",
            "  File \"/Library/Frameworks/Python.framework/Versions/3.8/lib/python3.8/multiprocessing/process.py\", line 313, in _bootstrap\n",
            "    self.run()\n",
            "  File \"/Library/Frameworks/Python.framework/Versions/3.8/lib/python3.8/multiprocessing/process.py\", line 108, in run\n",
            "    self._target(*self._args, **self._kwargs)\n",
            "  File \"/Library/Frameworks/Python.framework/Versions/3.8/lib/python3.8/multiprocessing/pool.py\", line 114, in worker\n",
            "    task = get()\n",
            "  File \"/Library/Frameworks/Python.framework/Versions/3.8/lib/python3.8/multiprocessing/queues.py\", line 358, in get\n",
            "    return _ForkingPickler.loads(res)\n",
            "AttributeError: Can't get attribute 'sample_function' on <module '__main__' (built-in)>\n",
            "Process SpawnPoolWorker-13:\n",
            "Traceback (most recent call last):\n",
            "  File \"/Library/Frameworks/Python.framework/Versions/3.8/lib/python3.8/multiprocessing/process.py\", line 313, in _bootstrap\n",
            "    self.run()\n",
            "  File \"/Library/Frameworks/Python.framework/Versions/3.8/lib/python3.8/multiprocessing/process.py\", line 108, in run\n",
            "    self._target(*self._args, **self._kwargs)\n",
            "  File \"/Library/Frameworks/Python.framework/Versions/3.8/lib/python3.8/multiprocessing/pool.py\", line 114, in worker\n",
            "    task = get()\n",
            "  File \"/Library/Frameworks/Python.framework/Versions/3.8/lib/python3.8/multiprocessing/queues.py\", line 358, in get\n",
            "    return _ForkingPickler.loads(res)\n",
            "AttributeError: Can't get attribute 'sample_function' on <module '__main__' (built-in)>\n",
            "Process SpawnPoolWorker-14:\n",
            "Traceback (most recent call last):\n",
            "  File \"/Library/Frameworks/Python.framework/Versions/3.8/lib/python3.8/multiprocessing/process.py\", line 313, in _bootstrap\n",
            "    self.run()\n",
            "  File \"/Library/Frameworks/Python.framework/Versions/3.8/lib/python3.8/multiprocessing/process.py\", line 108, in run\n",
            "    self._target(*self._args, **self._kwargs)\n",
            "  File \"/Library/Frameworks/Python.framework/Versions/3.8/lib/python3.8/multiprocessing/pool.py\", line 114, in worker\n",
            "    task = get()\n",
            "  File \"/Library/Frameworks/Python.framework/Versions/3.8/lib/python3.8/multiprocessing/queues.py\", line 358, in get\n",
            "    return _ForkingPickler.loads(res)\n",
            "AttributeError: Can't get attribute 'sample_function' on <module '__main__' (built-in)>\n",
            "Process SpawnPoolWorker-15:\n",
            "Traceback (most recent call last):\n",
            "  File \"/Library/Frameworks/Python.framework/Versions/3.8/lib/python3.8/multiprocessing/process.py\", line 313, in _bootstrap\n",
            "    self.run()\n",
            "  File \"/Library/Frameworks/Python.framework/Versions/3.8/lib/python3.8/multiprocessing/process.py\", line 108, in run\n",
            "    self._target(*self._args, **self._kwargs)\n",
            "  File \"/Library/Frameworks/Python.framework/Versions/3.8/lib/python3.8/multiprocessing/pool.py\", line 114, in worker\n",
            "    task = get()\n",
            "  File \"/Library/Frameworks/Python.framework/Versions/3.8/lib/python3.8/multiprocessing/queues.py\", line 358, in get\n",
            "    return _ForkingPickler.loads(res)\n",
            "AttributeError: Can't get attribute 'sample_function' on <module '__main__' (built-in)>\n",
            "Process SpawnPoolWorker-16:\n",
            "Traceback (most recent call last):\n",
            "  File \"/Library/Frameworks/Python.framework/Versions/3.8/lib/python3.8/multiprocessing/process.py\", line 313, in _bootstrap\n",
            "    self.run()\n",
            "  File \"/Library/Frameworks/Python.framework/Versions/3.8/lib/python3.8/multiprocessing/process.py\", line 108, in run\n",
            "    self._target(*self._args, **self._kwargs)\n",
            "  File \"/Library/Frameworks/Python.framework/Versions/3.8/lib/python3.8/multiprocessing/pool.py\", line 114, in worker\n",
            "    task = get()\n",
            "  File \"/Library/Frameworks/Python.framework/Versions/3.8/lib/python3.8/multiprocessing/queues.py\", line 358, in get\n",
            "    return _ForkingPickler.loads(res)\n",
            "AttributeError: Can't get attribute 'sample_function' on <module '__main__' (built-in)>\n",
            "Process SpawnPoolWorker-17:\n",
            "Traceback (most recent call last):\n",
            "  File \"/Library/Frameworks/Python.framework/Versions/3.8/lib/python3.8/multiprocessing/process.py\", line 313, in _bootstrap\n",
            "    self.run()\n",
            "  File \"/Library/Frameworks/Python.framework/Versions/3.8/lib/python3.8/multiprocessing/process.py\", line 108, in run\n",
            "    self._target(*self._args, **self._kwargs)\n",
            "  File \"/Library/Frameworks/Python.framework/Versions/3.8/lib/python3.8/multiprocessing/pool.py\", line 114, in worker\n",
            "    task = get()\n",
            "  File \"/Library/Frameworks/Python.framework/Versions/3.8/lib/python3.8/multiprocessing/queues.py\", line 358, in get\n",
            "    return _ForkingPickler.loads(res)\n",
            "AttributeError: Can't get attribute 'sample_function' on <module '__main__' (built-in)>\n",
            "Process SpawnPoolWorker-18:\n",
            "Traceback (most recent call last):\n",
            "  File \"/Library/Frameworks/Python.framework/Versions/3.8/lib/python3.8/multiprocessing/process.py\", line 313, in _bootstrap\n",
            "    self.run()\n",
            "  File \"/Library/Frameworks/Python.framework/Versions/3.8/lib/python3.8/multiprocessing/process.py\", line 108, in run\n",
            "    self._target(*self._args, **self._kwargs)\n",
            "  File \"/Library/Frameworks/Python.framework/Versions/3.8/lib/python3.8/multiprocessing/pool.py\", line 114, in worker\n",
            "    task = get()\n",
            "  File \"/Library/Frameworks/Python.framework/Versions/3.8/lib/python3.8/multiprocessing/queues.py\", line 358, in get\n",
            "    return _ForkingPickler.loads(res)\n",
            "AttributeError: Can't get attribute 'sample_function' on <module '__main__' (built-in)>\n",
            "Process SpawnPoolWorker-19:\n",
            "Traceback (most recent call last):\n",
            "  File \"/Library/Frameworks/Python.framework/Versions/3.8/lib/python3.8/multiprocessing/process.py\", line 313, in _bootstrap\n",
            "    self.run()\n",
            "  File \"/Library/Frameworks/Python.framework/Versions/3.8/lib/python3.8/multiprocessing/process.py\", line 108, in run\n",
            "    self._target(*self._args, **self._kwargs)\n",
            "  File \"/Library/Frameworks/Python.framework/Versions/3.8/lib/python3.8/multiprocessing/pool.py\", line 114, in worker\n",
            "    task = get()\n",
            "  File \"/Library/Frameworks/Python.framework/Versions/3.8/lib/python3.8/multiprocessing/queues.py\", line 358, in get\n",
            "    return _ForkingPickler.loads(res)\n",
            "AttributeError: Can't get attribute 'sample_function' on <module '__main__' (built-in)>\n",
            "Process SpawnPoolWorker-20:\n",
            "Process SpawnPoolWorker-21:\n",
            "Traceback (most recent call last):\n",
            "  File \"/Library/Frameworks/Python.framework/Versions/3.8/lib/python3.8/multiprocessing/process.py\", line 313, in _bootstrap\n",
            "    self.run()\n",
            "  File \"/Library/Frameworks/Python.framework/Versions/3.8/lib/python3.8/multiprocessing/process.py\", line 108, in run\n",
            "    self._target(*self._args, **self._kwargs)\n",
            "  File \"/Library/Frameworks/Python.framework/Versions/3.8/lib/python3.8/multiprocessing/pool.py\", line 114, in worker\n",
            "    task = get()\n",
            "  File \"/Library/Frameworks/Python.framework/Versions/3.8/lib/python3.8/multiprocessing/queues.py\", line 358, in get\n",
            "    return _ForkingPickler.loads(res)\n",
            "AttributeError: Can't get attribute 'sample_function' on <module '__main__' (built-in)>\n",
            "Traceback (most recent call last):\n",
            "  File \"/Library/Frameworks/Python.framework/Versions/3.8/lib/python3.8/multiprocessing/process.py\", line 313, in _bootstrap\n",
            "    self.run()\n",
            "  File \"/Library/Frameworks/Python.framework/Versions/3.8/lib/python3.8/multiprocessing/process.py\", line 108, in run\n",
            "    self._target(*self._args, **self._kwargs)\n",
            "  File \"/Library/Frameworks/Python.framework/Versions/3.8/lib/python3.8/multiprocessing/pool.py\", line 114, in worker\n",
            "    task = get()\n",
            "  File \"/Library/Frameworks/Python.framework/Versions/3.8/lib/python3.8/multiprocessing/queues.py\", line 358, in get\n",
            "    return _ForkingPickler.loads(res)\n",
            "AttributeError: Can't get attribute 'sample_function' on <module '__main__' (built-in)>\n",
            "Process SpawnPoolWorker-23:\n",
            "Traceback (most recent call last):\n",
            "  File \"/Library/Frameworks/Python.framework/Versions/3.8/lib/python3.8/multiprocessing/process.py\", line 313, in _bootstrap\n",
            "    self.run()\n",
            "  File \"/Library/Frameworks/Python.framework/Versions/3.8/lib/python3.8/multiprocessing/process.py\", line 108, in run\n",
            "    self._target(*self._args, **self._kwargs)\n",
            "  File \"/Library/Frameworks/Python.framework/Versions/3.8/lib/python3.8/multiprocessing/pool.py\", line 114, in worker\n",
            "    task = get()\n",
            "  File \"/Library/Frameworks/Python.framework/Versions/3.8/lib/python3.8/multiprocessing/queues.py\", line 358, in get\n",
            "    return _ForkingPickler.loads(res)\n",
            "AttributeError: Can't get attribute 'sample_function' on <module '__main__' (built-in)>\n",
            "Process SpawnPoolWorker-22:\n",
            "Traceback (most recent call last):\n",
            "  File \"/Library/Frameworks/Python.framework/Versions/3.8/lib/python3.8/multiprocessing/process.py\", line 313, in _bootstrap\n",
            "    self.run()\n",
            "  File \"/Library/Frameworks/Python.framework/Versions/3.8/lib/python3.8/multiprocessing/process.py\", line 108, in run\n",
            "    self._target(*self._args, **self._kwargs)\n",
            "  File \"/Library/Frameworks/Python.framework/Versions/3.8/lib/python3.8/multiprocessing/pool.py\", line 114, in worker\n",
            "    task = get()\n",
            "  File \"/Library/Frameworks/Python.framework/Versions/3.8/lib/python3.8/multiprocessing/queues.py\", line 358, in get\n",
            "    return _ForkingPickler.loads(res)\n",
            "AttributeError: Can't get attribute 'sample_function' on <module '__main__' (built-in)>\n",
            "Process SpawnPoolWorker-25:\n",
            "Traceback (most recent call last):\n",
            "  File \"/Library/Frameworks/Python.framework/Versions/3.8/lib/python3.8/multiprocessing/process.py\", line 313, in _bootstrap\n",
            "    self.run()\n",
            "  File \"/Library/Frameworks/Python.framework/Versions/3.8/lib/python3.8/multiprocessing/process.py\", line 108, in run\n",
            "    self._target(*self._args, **self._kwargs)\n",
            "  File \"/Library/Frameworks/Python.framework/Versions/3.8/lib/python3.8/multiprocessing/pool.py\", line 114, in worker\n",
            "    task = get()\n",
            "  File \"/Library/Frameworks/Python.framework/Versions/3.8/lib/python3.8/multiprocessing/queues.py\", line 358, in get\n",
            "    return _ForkingPickler.loads(res)\n",
            "AttributeError: Can't get attribute 'sample_function' on <module '__main__' (built-in)>\n",
            "Process SpawnPoolWorker-24:\n",
            "Traceback (most recent call last):\n",
            "  File \"/Library/Frameworks/Python.framework/Versions/3.8/lib/python3.8/multiprocessing/process.py\", line 313, in _bootstrap\n",
            "    self.run()\n",
            "  File \"/Library/Frameworks/Python.framework/Versions/3.8/lib/python3.8/multiprocessing/process.py\", line 108, in run\n",
            "    self._target(*self._args, **self._kwargs)\n",
            "  File \"/Library/Frameworks/Python.framework/Versions/3.8/lib/python3.8/multiprocessing/pool.py\", line 114, in worker\n",
            "    task = get()\n",
            "  File \"/Library/Frameworks/Python.framework/Versions/3.8/lib/python3.8/multiprocessing/queues.py\", line 358, in get\n",
            "    return _ForkingPickler.loads(res)\n",
            "AttributeError: Can't get attribute 'sample_function' on <module '__main__' (built-in)>\n"
          ]
        },
        {
          "ename": "KeyboardInterrupt",
          "evalue": "",
          "output_type": "error",
          "traceback": [
            "\u001b[0;31m---------------------------------------------------------------------------\u001b[0m",
            "\u001b[0;31mKeyboardInterrupt\u001b[0m                         Traceback (most recent call last)",
            "Cell \u001b[0;32mIn[3], line 10\u001b[0m\n\u001b[1;32m      8\u001b[0m \u001b[39m# максимально утрированный пример кода, который должен вам намекнуть, как реализовать задание\u001b[39;00m\n\u001b[1;32m      9\u001b[0m \u001b[39mwith\u001b[39;00m mp\u001b[39m.\u001b[39mPool(processes\u001b[39m=\u001b[39mcores) \u001b[39mas\u001b[39;00m p:\n\u001b[0;32m---> 10\u001b[0m  \u001b[39mfor\u001b[39;00m result \u001b[39min\u001b[39;00m p\u001b[39m.\u001b[39;49mmap(sample_function, \u001b[39mrange\u001b[39;49m(\u001b[39m0\u001b[39;49m, \u001b[39m100\u001b[39;49m)):\n\u001b[1;32m     11\u001b[0m         \u001b[39mif\u001b[39;00m result:\n\u001b[1;32m     12\u001b[0m             \u001b[39mprint\u001b[39m(\u001b[39mf\u001b[39m\u001b[39m'\u001b[39m\u001b[39mwe have found \u001b[39m\u001b[39m{\u001b[39;00mresult\u001b[39m}\u001b[39;00m\u001b[39m and have terminated pool\u001b[39m\u001b[39m'\u001b[39m)\n",
            "File \u001b[0;32m/Library/Frameworks/Python.framework/Versions/3.8/lib/python3.8/multiprocessing/pool.py:364\u001b[0m, in \u001b[0;36mPool.map\u001b[0;34m(self, func, iterable, chunksize)\u001b[0m\n\u001b[1;32m    359\u001b[0m \u001b[39mdef\u001b[39;00m \u001b[39mmap\u001b[39m(\u001b[39mself\u001b[39m, func, iterable, chunksize\u001b[39m=\u001b[39m\u001b[39mNone\u001b[39;00m):\n\u001b[1;32m    360\u001b[0m     \u001b[39m'''\u001b[39;00m\n\u001b[1;32m    361\u001b[0m \u001b[39m    Apply `func` to each element in `iterable`, collecting the results\u001b[39;00m\n\u001b[1;32m    362\u001b[0m \u001b[39m    in a list that is returned.\u001b[39;00m\n\u001b[1;32m    363\u001b[0m \u001b[39m    '''\u001b[39;00m\n\u001b[0;32m--> 364\u001b[0m     \u001b[39mreturn\u001b[39;00m \u001b[39mself\u001b[39;49m\u001b[39m.\u001b[39;49m_map_async(func, iterable, mapstar, chunksize)\u001b[39m.\u001b[39;49mget()\n",
            "File \u001b[0;32m/Library/Frameworks/Python.framework/Versions/3.8/lib/python3.8/multiprocessing/pool.py:762\u001b[0m, in \u001b[0;36mApplyResult.get\u001b[0;34m(self, timeout)\u001b[0m\n\u001b[1;32m    761\u001b[0m \u001b[39mdef\u001b[39;00m \u001b[39mget\u001b[39m(\u001b[39mself\u001b[39m, timeout\u001b[39m=\u001b[39m\u001b[39mNone\u001b[39;00m):\n\u001b[0;32m--> 762\u001b[0m     \u001b[39mself\u001b[39;49m\u001b[39m.\u001b[39;49mwait(timeout)\n\u001b[1;32m    763\u001b[0m     \u001b[39mif\u001b[39;00m \u001b[39mnot\u001b[39;00m \u001b[39mself\u001b[39m\u001b[39m.\u001b[39mready():\n\u001b[1;32m    764\u001b[0m         \u001b[39mraise\u001b[39;00m \u001b[39mTimeoutError\u001b[39;00m\n",
            "File \u001b[0;32m/Library/Frameworks/Python.framework/Versions/3.8/lib/python3.8/multiprocessing/pool.py:759\u001b[0m, in \u001b[0;36mApplyResult.wait\u001b[0;34m(self, timeout)\u001b[0m\n\u001b[1;32m    758\u001b[0m \u001b[39mdef\u001b[39;00m \u001b[39mwait\u001b[39m(\u001b[39mself\u001b[39m, timeout\u001b[39m=\u001b[39m\u001b[39mNone\u001b[39;00m):\n\u001b[0;32m--> 759\u001b[0m     \u001b[39mself\u001b[39;49m\u001b[39m.\u001b[39;49m_event\u001b[39m.\u001b[39;49mwait(timeout)\n",
            "File \u001b[0;32m/Library/Frameworks/Python.framework/Versions/3.8/lib/python3.8/threading.py:558\u001b[0m, in \u001b[0;36mEvent.wait\u001b[0;34m(self, timeout)\u001b[0m\n\u001b[1;32m    556\u001b[0m signaled \u001b[39m=\u001b[39m \u001b[39mself\u001b[39m\u001b[39m.\u001b[39m_flag\n\u001b[1;32m    557\u001b[0m \u001b[39mif\u001b[39;00m \u001b[39mnot\u001b[39;00m signaled:\n\u001b[0;32m--> 558\u001b[0m     signaled \u001b[39m=\u001b[39m \u001b[39mself\u001b[39;49m\u001b[39m.\u001b[39;49m_cond\u001b[39m.\u001b[39;49mwait(timeout)\n\u001b[1;32m    559\u001b[0m \u001b[39mreturn\u001b[39;00m signaled\n",
            "File \u001b[0;32m/Library/Frameworks/Python.framework/Versions/3.8/lib/python3.8/threading.py:302\u001b[0m, in \u001b[0;36mCondition.wait\u001b[0;34m(self, timeout)\u001b[0m\n\u001b[1;32m    300\u001b[0m \u001b[39mtry\u001b[39;00m:    \u001b[39m# restore state no matter what (e.g., KeyboardInterrupt)\u001b[39;00m\n\u001b[1;32m    301\u001b[0m     \u001b[39mif\u001b[39;00m timeout \u001b[39mis\u001b[39;00m \u001b[39mNone\u001b[39;00m:\n\u001b[0;32m--> 302\u001b[0m         waiter\u001b[39m.\u001b[39;49macquire()\n\u001b[1;32m    303\u001b[0m         gotit \u001b[39m=\u001b[39m \u001b[39mTrue\u001b[39;00m\n\u001b[1;32m    304\u001b[0m     \u001b[39melse\u001b[39;00m:\n",
            "\u001b[0;31mKeyboardInterrupt\u001b[0m: "
          ]
        }
      ],
      "source": [
        "from random import randint\n",
        "\n",
        "rand = randint(0, 99)\n",
        "\n",
        "def sample_function(x):\n",
        "    return x if x == rand else False\n",
        "\n",
        "# максимально утрированный пример кода, который должен вам намекнуть, как реализовать задание\n",
        "with mp.Pool(processes=cores) as p:\n",
        " for result in p.map(sample_function, range(0, 100)):\n",
        "        if result:\n",
        "            print(f'we have found {result} and have terminated pool')\n",
        "            p.terminate()\n",
        "            break"
      ]
    },
    {
      "cell_type": "markdown",
      "metadata": {
        "id": "foBJ8A2R_2On"
      },
      "source": [
        "## Работа с библиотекой hashlib\n",
        "\n",
        "В данном разделе представлены примеры работы с библиотекой [hashlib](https://docs.python.org/3/library/hashlib.html), которые могут вам пригодиться при выполнении данной лабораторной работы."
      ]
    },
    {
      "cell_type": "code",
      "execution_count": 3,
      "metadata": {
        "colab": {
          "base_uri": "https://localhost:8080/"
        },
        "id": "_ZPiKLhtxvox",
        "outputId": "3840825c-09eb-4bd8-9641-d755bced6ee0"
      },
      "outputs": [
        {
          "data": {
            "text/plain": [
              "{'blake2b',\n",
              " 'blake2s',\n",
              " 'md4',\n",
              " 'md5',\n",
              " 'md5-sha1',\n",
              " 'ripemd160',\n",
              " 'sha1',\n",
              " 'sha224',\n",
              " 'sha256',\n",
              " 'sha384',\n",
              " 'sha3_224',\n",
              " 'sha3_256',\n",
              " 'sha3_384',\n",
              " 'sha3_512',\n",
              " 'sha512',\n",
              " 'sha512_224',\n",
              " 'sha512_256',\n",
              " 'shake_128',\n",
              " 'shake_256',\n",
              " 'sm3',\n",
              " 'whirlpool'}"
            ]
          },
          "execution_count": 3,
          "metadata": {},
          "output_type": "execute_result"
        }
      ],
      "source": [
        "import hashlib\n",
        "# доступные в данном пакете алгоритмы хеширования\n",
        "hashlib.algorithms_available"
      ]
    },
    {
      "cell_type": "code",
      "execution_count": null,
      "metadata": {
        "colab": {
          "base_uri": "https://localhost:8080/"
        },
        "id": "BNeGw8m-da6n",
        "outputId": "f387d961-2cc1-4e84-9998-3260f82912f8"
      },
      "outputs": [
        {
          "name": "stdout",
          "output_type": "stream",
          "text": [
            "<class 'str'>\n",
            "b98df157bfed0667a483f5b5d4656ed218ccc2c3d202b910aa021b0288219a7f\n"
          ]
        }
      ],
      "source": [
        "# хеши в задании к лабораторной работе приведены в hex формате\n",
        "hash = hashlib.sha256(f'1400880042003590'.encode()).hexdigest()\n",
        "print(type(hash))\n",
        "print(hash)"
      ]
    },
    {
      "cell_type": "markdown",
      "metadata": {
        "id": "L_n68abR9Ahj"
      },
      "source": [
        "## Работа с библиотекой matplotlib\n",
        "В данном разделе представлены примеры работы с библиотекой [matplotlib](https://matplotlib.org/), которые могут вам пригодиться при выполнении данной лабораторной работы. \n",
        "С данной библиотекой вы сталкивались во время курса \"Прикладное программирование\"."
      ]
    },
    {
      "cell_type": "code",
      "execution_count": 29,
      "metadata": {
        "id": "GiPjs-XD-b8J"
      },
      "outputs": [],
      "source": [
        "from matplotlib import pyplot as plt\n",
        "import numpy as np\n",
        "\n",
        "step = .1\n",
        "x =  np.arange(-10,10.1,step)\n",
        "y1 = np.sinc(x)"
      ]
    },
    {
      "cell_type": "code",
      "execution_count": 35,
      "metadata": {
        "colab": {
          "base_uri": "https://localhost:8080/",
          "height": 231
        },
        "id": "ZLDUnQK4ACfJ",
        "outputId": "e9e7747b-75b8-46a8-db97-1d94413a912c"
      },
      "outputs": [
        {
          "data": {
            "image/png": "[encoded data removed]",
            "text/plain": [
              "<Figure size 2160x360 with 1 Axes>"
            ]
          },
          "metadata": {
            "needs_background": "light"
          },
          "output_type": "display_data"
        }
      ],
      "source": [
        "# несмотря на то, что с данной библиотекой вы работали в прошлом семеcтре, напомню, что matplotlib позволяет строить графики:\n",
        "\n",
        "fig=plt.figure(figsize=(30, 5))\n",
        "plt.ylabel('y')\n",
        "plt.xlabel('x')\n",
        "plt.title('y=sinc(x)')\n",
        "plt.plot(x,y1, color='navy', linestyle = '--', marker='x', linewidth=1, markersize=4 ) \n",
        "plt.show()"
      ]
    },
    {
      "cell_type": "code",
      "execution_count": 32,
      "metadata": {
        "colab": {
          "base_uri": "https://localhost:8080/",
          "height": 432
        },
        "id": "zMLr7iDC-SZx",
        "outputId": "edd8f3e7-a24a-4852-e407-ac2486fb2269"
      },
      "outputs": [
        {
          "data": {
            "image/png": "[encoded data removed]",
            "text/plain": [
              "<Figure size 504x504 with 1 Axes>"
            ]
          },
          "metadata": {},
          "output_type": "display_data"
        }
      ],
      "source": [
        "# напомню, что помимо графиков можно реализовывать различные виды диаграмм, например, круговые...:\n",
        "\n",
        "labels = 'Luck', 'Skill', 'Concentrated power of will', 'Pleasure', 'Pain' #заголовки, против часовой\n",
        "sizes = [10, 20, 15, 5, 50] # значения\n",
        "explode = (0,0,0.1,0,0)  # параметры выделения кусков диаграммы\n",
        "\n",
        "fig1, ax1 = plt.subplots(figsize=(7, 7))\n",
        "plt.title('Reason to remember the name', fontsize=20)\n",
        "ax1.pie(sizes, explode=explode, labels=labels, shadow=True, startangle=120)\n",
        "ax1.axis('equal')  # чтобы получился круг\n",
        "plt.show()"
      ]
    },
    {
      "cell_type": "code",
      "execution_count": 36,
      "metadata": {
        "colab": {
          "base_uri": "https://localhost:8080/",
          "height": 232
        },
        "id": "d7XUroox-zXC",
        "outputId": "e71b8d19-5654-4b12-e453-a423b79b18d4"
      },
      "outputs": [
        {
          "data": {
            "image/png": "[encoded data removed]",
            "text/plain": [
              "<Figure size 2160x360 with 1 Axes>"
            ]
          },
          "metadata": {
            "needs_background": "light"
          },
          "output_type": "display_data"
        }
      ],
      "source": [
        "# ... или столбчатые (которые будут, пожалуй, наиболее подходящими для задания):\n",
        "\n",
        "fig=plt.figure(figsize=(30, 5))\n",
        "plt.ylabel('y')\n",
        "plt.xlabel('x')\n",
        "plt.title('y=sinc(x)')\n",
        "plt.bar(x[90:111],y1[90:111], color='gold', width = 0.05) \n",
        "plt.show()"
      ]
    },
    {
      "cell_type": "markdown",
      "metadata": {
        "id": "lPdLfED0DMgZ"
      },
      "source": [
        "## Небольшие ремарки к реализации приложения\n"
      ]
    },
    {
      "cell_type": "markdown",
      "metadata": {
        "id": "W8ZJgYEfprpg"
      },
      "source": [
        "Поскольку задание к этой лабораторной достаточно примитивное, мне бы хотелось, чтобы вы применили все полученные в рамках дисциплины \"Прикладное программирование\" навыки.\n",
        "\n",
        "Хотелось бы видеть в конечном софте некоторые пункты из указанного списка:\n",
        "* Покрытие кода юнит-теcтами,\n",
        "* Визуализацию процесса подбора коллизии при помощи [tqdm](https://tqdm.github.io/),\n",
        "* Графический интерфейс пользователя средствами [pyqt](https://www.riverbankcomputing.com/static/Docs/PyQt6/),\n",
        "* Работу с параметрами командной строки через [argparse](https://docs.python.org/3/library/argparse.html),\n",
        "* Что-нибудь еще, что было в рамках курса \"Прикладное программирование\", о чем я не упомянул.\n"
      ]
    },
    {
      "cell_type": "markdown",
      "metadata": {
        "id": "WjMnsW2A-vYI"
      },
      "source": [
        "##Варианты заданий\n",
        "Вариант соответствует вашему порядковому номеру в списке группы.  "
      ]
    },
    {
      "cell_type": "markdown",
      "metadata": {
        "id": "4YzFAOyxAr9t"
      },
      "source": [
        "Найти БИН номер можно при помощи сервисов в интернете, например, при помощи [этого](https://finanso.com/ru/bin-search-reverse/).\n",
        "\n",
        "*Ремарки :*\n",
        "* Номер карты хешируется в виде строки из 16 символов без пробелов.\n",
        "* Все \"банковские карты\" в задании \"выпущены в России\". \n",
        "* Если сервис выдает вам несколько вариаций БИН-кодов, вам придется перебирать их все.\n",
        "* Чтобы облегчить вам жизнь, хеши приведены без [соли](https://auth0.com/blog/adding-salt-to-hashing-a-better-way-to-store-passwords/). \n",
        "* Также в вариантах приведены последние 4 символа карты, чтобы замер времени подбора символов карты при различных параметрах пула процессов не занял у вас всю оставшуюся жизнь."
      ]
    },
    {
      "cell_type": "markdown",
      "metadata": {
        "id": "oKh5g7IsAlcf"
      },
      "source": [
        "|Номер варианта|Значение хеша|Платежная система|Тип карты|Банк-эмитент|Последние 4 символа карты|Алгоритм хеширования из hashlib|\n",
        "|--|--|--|--|--|--|--|\n",
        "|1|0438cbc33cb25114ed4ae1cf863527401db733c2d55a01563a84f2955ad5233a129a0220fec715208fee40c9710343d402e22f97f1f8b3dc312f7a20e6585ad2|VISA|Дебетовая|Сбербанк|0877|blake2b|\n",
        "|2|140495200b351b7f18a46e3796f2875ebdf0023568933ef3b99efb285af3f06b|Mastercard|Кредитная|Сбербанк|2301|blake2s|\n",
        "|3|bf67709b1216cb66038f3ae5ad2b4c066be03cbb|МИР|Дебетовая|Сбербанк|5688|sha1|\n",
        "|4|e5c92fb926ffc9976ad06b46cc7eb656158f07b6e41a1666e005c9cd|VISA|Кредитная|Сбербанк|1217|sha224|\n",
        "|5|4006234246b4fd2b2833d740927ab20465afad862c74b1a88ec0869bde5c836c|Mastercard|Дебетовая|Альфа-банк|0254|sha256|\n",
        "|6|7dbbccf1e06c2ea6c7f7711cb90b08eee16d1476fa0e75067d84a642494589149eba75ba396ad3ccbb9ca9d2fc5340cf|МИР|Дебетовая|Альфа-банк|6302|sha384|\n",
        "|7|f56ab81d14e7c55304dff878c3f61f2d96c8ef1f56aff163320e67df|VISA|Дебетовая|Альфа-банк|7819|sha3_224|\n",
        "|8|cb28fea647fab039e21aedf9762c895f6514d70ae404d5eac3c2b1da26547745|Mastercard|Кредитная|Альфа-банк|5623|sha3_256|\n",
        "|9|78495810cec383f3f82049d03a522f5141583d1d6577235c74084c1d21f7a1df4612c05c0d6b5eb15edd1270ab5069f0|МИР|Дебетовая|Тинькофф|9920|sha3_384|\n",
        "|10|e537d605a9f957a2c6ccb8cb2bb59537675e048c7ef78f86389a333d54feb154270a0f9df684f2b0d0e30c4eee9403bfd53b8e32af89f6fba9fd16aafdfa7420|VISA|Кредитная|Тинькофф|5274|sha3_512|\n",
        "|11|adc0e9f7627c5fd35d240a71e1f2b895f77dec86c543452a2986ee6c736130bee896f104f5b12aa36276f0cc6b4ffcf22ccaaee905ba63f8d9fe31cdc9d034ab|Mastercard|Дебетовая|Тинькофф|2305|sha512|\n",
        "|12|2083ca0a0960daaa60a509a298d2eec8|Mastercard|Кредитная|Тинькофф|1994|md5|\n",
        "|13|4f9cbbc1e5a60f526a58cde1343acd900b3f918f6fdff73eb82b0b87ae7d8e22|VISA|Дебетовая|ВТБ|5574|blake2s|\n",
        "|14|754a917a9c82f5247412006a5abe1c0eb76e1007|Mastercard|Кредитная|ВТБ|0758|sha1|\n",
        "|15|7f688005d71c909f5d249b5e8a3704e1c5868dd6e07d1b421b4b9247|Mastercard|Дебетовая|ВТБ|9001|sha224|\n",
        "|16|70ba6e37c3be80134c2fd8563043c0cb9278a43116b3bc2dfad03e2e455ed473|VISA|Кредитная|ВТБ|1378|sha256|\n",
        "|17|50c6b2ca7a569f006d23b3be8007dd775652c1028c2c44bbb3847008956e179e4f8cc315d8076cf97483279e44075424|Mastercard|Дебетовая|Газпромбанк|1512|sha384|\n",
        "|18|3f0c13cdb9c926cdf1aa4f5475d12107d69a030ff93deb426804eaad|МИР|Кредитная|Газпромбанк|3663|sha3_224|\n",
        "|19|0b08d71bd3e26721ff32542069442d82811bff4a1e61134dfeedc14848cd0e39|VISA|Дебетовая|Газпромбанк|0956|sha3_256|\n",
        "|20|2ee504e22d19eb191313750779dc3329e41c9657b1c24131ca1490b9322fbbfed808eb37646a9e61882113074f0cc4dc|Mastercard|Кредитная|Газпромбанк|5474|sha3_384|"
      ]
    }
  ],
  "metadata": {
    "colab": {
      "collapsed_sections": [
        "v1qpeV--38wT",
        "foBJ8A2R_2On",
        "L_n68abR9Ahj"
      ],
      "provenance": []
    },
    "kernelspec": {
      "display_name": "Python 3",
      "name": "python3"
    },
    "language_info": {
      "codemirror_mode": {
        "name": "ipython",
        "version": 3
      },
      "file_extension": ".py",
      "mimetype": "text/x-python",
      "name": "python",
      "nbconvert_exporter": "python",
      "pygments_lexer": "ipython3",
      "version": "3.8.0"
    }
  },
  "nbformat": 4,
  "nbformat_minor": 0
}
